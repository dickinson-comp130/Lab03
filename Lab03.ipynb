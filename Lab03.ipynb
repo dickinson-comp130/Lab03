{
 "cells": [
  {
   "cell_type": "markdown",
   "metadata": {
    "deletable": false,
    "editable": false,
    "run_control": {
     "frozen": true
    }
   },
   "source": [
    "# Lab 03 - Objects and Graphics  \n",
    "**COMP130 - Introduction to Computing**  \n",
    "**Dickinson College**  "
   ]
  },
  {
   "cell_type": "markdown",
   "metadata": {
    "deletable": false,
    "editable": false,
    "run_control": {
     "frozen": true
    }
   },
   "source": [
    "### Names:"
   ]
  },
  {
   "cell_type": "markdown",
   "metadata": {},
   "source": [
    "We LOVE to see your names right here."
   ]
  },
  {
   "cell_type": "markdown",
   "metadata": {
    "deletable": false,
    "editable": false,
    "run_control": {
     "frozen": true
    }
   },
   "source": [
    "### The graphics module "
   ]
  },
  {
   "cell_type": "markdown",
   "metadata": {
    "deletable": false,
    "editable": false,
    "run_control": {
     "frozen": true
    }
   },
   "source": [
    "In this lab you will be writing programs that use graphics objects to draw pictures and perform simple animations. In the process you'll gain more experience and practice with using objects, learn a little about how computer graphics and colors work and also learn how to run Python programs outside of a Jupyter notebook. \n",
    "\n",
    "The graphics and animation programs you write will use the `graphics` module created for introductory computer science courses by [John Zelle](https://mcsp.wartburg.edu/zelle/), a Professor of Computer Science at Wartburg College.  This `graphics` package provides a collection of Python objects that represent different graphical shapes (e.g. points, lines, circles, etc).  Pictures and animations are then created by constructing appropriate objects and using their methods to operate on their state. "
   ]
  },
  {
   "cell_type": "markdown",
   "metadata": {
    "deletable": false,
    "editable": false,
    "run_control": {
     "frozen": true
    }
   },
   "source": [
    "### The `graphics` Package and the `GraphWin` object"
   ]
  },
  {
   "cell_type": "markdown",
   "metadata": {
    "deletable": false,
    "editable": false,
    "run_control": {
     "frozen": true
    }
   },
   "source": [
    "There is a link to the documentation for the `graphics` module on the [course home page](https://dickinson-comp130.github.io/COMP130/). You will find that documentation essential in answering the questions in this section and also later in learning about all of the types of graphical objects the module contains."
   ]
  },
  {
   "cell_type": "markdown",
   "metadata": {
    "deletable": false,
    "editable": false,
    "run_control": {
     "frozen": true
    }
   },
   "source": [
    "__Q1:__ The `GraphWin` object represents a window onto which graphic objects can be drawn.  Find the documentation for the `GraphWin` constructor.  What arguments does the `GraphWin` constructor accept?"
   ]
  },
  {
   "cell_type": "markdown",
   "metadata": {},
   "source": [
    "GraphWin(title, width, height)\n",
    "The GraphWin constructor accepts 3 arguments *in order*:\n",
    "1. title: a name, word, phrase, sentence or *some string* to appear in the top bar of the graphics window\n",
    "2. width: the number of pixels wide you want the window to be\n",
    "3. height: the number of pixels high you want the window to be\n",
    "\n",
    "Notice that with no arguments provided, GraphWin( ) will proceed with *default values*."
   ]
  },
  {
   "cell_type": "markdown",
   "metadata": {
    "deletable": false,
    "editable": false,
    "run_control": {
     "frozen": true
    }
   },
   "source": [
    "__Q2:__ Notice that the units in which the width and height of the `GraphWin` are specified is *pixels*.  What is a pixel? (Note: The window is not measured in units of Google phones. 😜)"
   ]
  },
  {
   "cell_type": "markdown",
   "metadata": {},
   "source": [
    "For our puropses, a pixel is a single square in an image or animation that can only be 1 single, exact color at any specific moment. It is the base unit from which digital images are constructed.\n",
    "\n",
    "[one web company's cool intro explanation of a *pixel*](https://websitebuilders.com/how-to/glossary/pixel/)"
   ]
  },
  {
   "cell_type": "markdown",
   "metadata": {
    "deletable": false,
    "editable": false,
    "run_control": {
     "frozen": true
    }
   },
   "source": [
    "__Q3:__ Write statements that import the `graphics` module and create a `GraphWin` object with the name *First Graphics Window* and is *500* pixels wide by *400* pixels high."
   ]
  },
  {
   "cell_type": "code",
   "execution_count": 1,
   "metadata": {},
   "outputs": [],
   "source": [
    "from graphics import *\n",
    "\n",
    "anyWin = GraphWin(\"First Graphics Window\", 500, 400)"
   ]
  },
  {
   "cell_type": "code",
   "execution_count": 1,
   "metadata": {},
   "outputs": [],
   "source": [
    "from graphics import *\n",
    "\n",
    "First_Graphics_Window = GraphWin(\"First Graphics Window\", 500, 400)"
   ]
  },
  {
   "cell_type": "markdown",
   "metadata": {
    "deletable": false,
    "editable": false,
    "run_control": {
     "frozen": true
    }
   },
   "source": [
    "When you run the statements in your answer to __Q3__ a blank graphics window will be displayed on the screen.  Like with the turtle window in Lab01 you will not be able to close that window.  Instead, to terminate the program you will need to *restart the kernel* to close the window.  To restart the kernel use the *restart* option on the *Kernel* menu, or click the *circular arrow* on the toolbar.  You will improve this situation in the next two questions.  \n",
    "\n",
    "However, you will likely make some programming mistakes as you go along. Some of these will cause the graphics window to get *stuck* (e.g. the spinning beach ball will appear).  So restarting the kernel to close a *stuck* graphics window will be a useful trick to keep in mind as you debug your code throughout this lab."
   ]
  },
  {
   "cell_type": "markdown",
   "metadata": {
    "deletable": false,
    "editable": false,
    "run_control": {
     "frozen": true
    }
   },
   "source": [
    "__Q4:__ The `GraphWin` object also provides a method that will close the window.  If we use this it will not be necessary to reset the kernel.  Find this method in the documentation and add a statement that uses it to the end of your program in __Q3__."
   ]
  },
  {
   "cell_type": "code",
   "execution_count": 1,
   "metadata": {},
   "outputs": [],
   "source": [
    "from graphics import *\n",
    "\n",
    "anyWin = GraphWin(\"First Graphics Window\", 500, 400)\n",
    "anyWin.close()"
   ]
  },
  {
   "cell_type": "markdown",
   "metadata": {
    "deletable": false,
    "editable": false,
    "run_control": {
     "frozen": true
    }
   },
   "source": [
    "When you run that program now, the graphics window should flash briefly on the screen and then disappear. Why? Well because that's what you've told it to do.  We'll fix that in a moment."
   ]
  },
  {
   "cell_type": "markdown",
   "metadata": {
    "deletable": false,
    "editable": false,
    "run_control": {
     "frozen": true
    }
   },
   "source": [
    "__Q5:__ The `GraphWin` object also provides a method that waits for the user to press a key.  If you add a call to this method just before closing the window. The window will stay on the screen until you press a key and then it will close.  Add code to your program in __Q3__ that waits for a key press before closing the window.  Note: You may have to click in the graphics window to make it active in order for the key press to register. This is just like bringing your word processing or e-mail program to the front so that you can type in it."
   ]
  },
  {
   "cell_type": "code",
   "execution_count": 1,
   "metadata": {},
   "outputs": [],
   "source": [
    "from graphics import *\n",
    "\n",
    "anyWin = GraphWin(\"First Graphics Window\", 500, 400)\n",
    "\n",
    "anyWin.getKey()\n",
    "anyWin.close()"
   ]
  },
  {
   "cell_type": "markdown",
   "metadata": {
    "deletable": false,
    "editable": false,
    "run_control": {
     "frozen": true
    }
   },
   "source": [
    "The program you now have in __Q3__ is the basis for all programs that use the `graphics` module.  They start by importing the module and creating a `GraphWin` object and they end by waiting for an event (e.g. a key press) before closing the window. Its what goes between creating the window and waiting for the key press that creates pictures and animations."
   ]
  },
  {
   "cell_type": "markdown",
   "metadata": {
    "deletable": false,
    "editable": false,
    "run_control": {
     "frozen": true
    }
   },
   "source": [
    "__Q6:__ Have your instructor or TA confirm that the program that you now have in the code field for __Q3__ is correct before continuing."
   ]
  },
  {
   "cell_type": "markdown",
   "metadata": {},
   "source": [
    "EAT ATE TEA"
   ]
  },
  {
   "cell_type": "markdown",
   "metadata": {
    "deletable": false,
    "editable": false,
    "run_control": {
     "frozen": true
    }
   },
   "source": [
    "### Points and Graphics Window Coordinates"
   ]
  },
  {
   "cell_type": "markdown",
   "metadata": {
    "deletable": false,
    "editable": false,
    "run_control": {
     "frozen": true
    }
   },
   "source": [
    "__Q7:__ The `Point` object is a fundamental object in the `graphics` package and is used by many of the other objects and their methods.  What arguments does the `Point` constructor require?"
   ]
  },
  {
   "cell_type": "markdown",
   "metadata": {},
   "source": [
    "1. horizontal X coordinate\n",
    "2. vertical Y coordinate"
   ]
  },
  {
   "cell_type": "markdown",
   "metadata": {
    "deletable": false,
    "editable": false,
    "run_control": {
     "frozen": true
    }
   },
   "source": [
    "__Q8:__ What other two methods does a `Point` object have? Are they *fruitful* or *fruitless* methods?"
   ]
  },
  {
   "cell_type": "markdown",
   "metadata": {},
   "source": [
    "1. get(X): return the `Point` object's current X coordinate \n",
    "2. get(Y): return the `Point` object's current Y coordinate \n",
    "\n",
    "As both these methods return values, they are both *fruitful*.\n",
    "\n",
    "The X or Y coordinate (usually a float) of the `Point` object is the *fruit* that the method produces."
   ]
  },
  {
   "cell_type": "markdown",
   "metadata": {
    "deletable": false,
    "editable": false,
    "run_control": {
     "frozen": true
    }
   },
   "source": [
    "__Q9:__ There are seven other methods that all graphical objects (including `Point` have).  One of those methods draws the object onto a `GraphWin` window.  Which method is that?  What argument does it require?"
   ]
  },
  {
   "cell_type": "markdown",
   "metadata": {},
   "source": [
    "obj_name.draw()\n",
    "\n",
    "`draw( )` needs to know the name of the window in which you want to draw the object.\n",
    "\n",
    "obj_name.draw(win_name)"
   ]
  },
  {
   "cell_type": "markdown",
   "metadata": {
    "deletable": false,
    "editable": false,
    "run_control": {
     "frozen": true
    }
   },
   "source": [
    "__Q10:__ Another of those methods sets the color used to draw the outline of it.  Which method is that? What argument does it require?  Scan through the documentation and find some valid values for this argument and list them here as well."
   ]
  },
  {
   "cell_type": "markdown",
   "metadata": {},
   "source": [
    "obj_name.setFill()\n",
    "\n",
    "`setFill( )` needs to know the color with which you want to fill the object.\n",
    "\n",
    "obj_name.setFill(color)\n",
    "\n",
    "Ex: obj_name.setFill(\"red\")"
   ]
  },
  {
   "cell_type": "markdown",
   "metadata": {
    "deletable": false,
    "editable": false,
    "run_control": {
     "frozen": true
    }
   },
   "source": [
    "__Q11:__ Write a program that creates a `GraphWin`, creates and draws four `Point`s in four different colors at four different locations in the window. When writing programs that use the `graphics` module you can use your program from __Q3__ as a template by copy and pasting it and then filling in the new code."
   ]
  },
  {
   "cell_type": "code",
   "execution_count": 3,
   "metadata": {},
   "outputs": [],
   "source": [
    "from graphics import *\n",
    "\n",
    "myWin = GraphWin(\"First Graphics Window\", 500, 400)\n",
    "\n",
    "nw = Point(50, 50)\n",
    "nw.setFill(\"red\")\n",
    "nw.draw(myWin)\n",
    "\n",
    "ne = Point(450, 50)\n",
    "ne.setFill(\"blue\")\n",
    "ne.draw(myWin)\n",
    "\n",
    "se = Point(450, 350)\n",
    "se.setFill(\"green\")\n",
    "se.draw(myWin)\n",
    "\n",
    "sw = Point(50, 350)\n",
    "sw.setFill(\"orange\")\n",
    "sw.draw(myWin)\n",
    "\n",
    "myWin.getKey()\n",
    "myWin.close()"
   ]
  },
  {
   "cell_type": "markdown",
   "metadata": {
    "deletable": false,
    "editable": false,
    "run_control": {
     "frozen": true
    }
   },
   "source": [
    "The coordinate system used for computer graphics is different than what you are used to from your math courses.  Experiment with the locations of the `Point` objects in your program from __Q11__ to answer the following questions."
   ]
  },
  {
   "cell_type": "markdown",
   "metadata": {
    "deletable": false,
    "editable": false,
    "run_control": {
     "frozen": true
    }
   },
   "source": [
    "__Q12:__ Where is the origin (0,0) in the graphics window?"
   ]
  },
  {
   "cell_type": "markdown",
   "metadata": {},
   "source": [
    "The origin (0,0) is the upper lefthand corner of the graphics window."
   ]
  },
  {
   "cell_type": "markdown",
   "metadata": {
    "deletable": false,
    "editable": false,
    "run_control": {
     "frozen": true
    }
   },
   "source": [
    "__Q13:__ Do the x coordinates increase or decrease as you move right to left within the window?"
   ]
  },
  {
   "cell_type": "markdown",
   "metadata": {},
   "source": [
    "X coordinates decrease as you move from right to left within the window."
   ]
  },
  {
   "cell_type": "markdown",
   "metadata": {
    "deletable": false,
    "editable": false,
    "run_control": {
     "frozen": true
    }
   },
   "source": [
    "__Q14:__ Do the y coordinates increase or decrease as you move from top to bottom within the window?"
   ]
  },
  {
   "cell_type": "markdown",
   "metadata": {},
   "source": [
    "Y coordinates INCREASE as you move from top to bottom within the window.\n",
    "\n",
    "This is hugely important for working with computer graphics. Make sure you can make the adjustment!"
   ]
  },
  {
   "cell_type": "markdown",
   "metadata": {
    "deletable": false,
    "editable": false,
    "run_control": {
     "frozen": true
    }
   },
   "source": [
    "### Other Graphics Objects"
   ]
  },
  {
   "cell_type": "markdown",
   "metadata": {
    "deletable": false,
    "editable": false,
    "run_control": {
     "frozen": true
    }
   },
   "source": [
    "__Q15:__ Section 3 of the `graphics` module documents all of the different graphics objects.  What other graphics objects are in the module?"
   ]
  },
  {
   "cell_type": "markdown",
   "metadata": {},
   "source": [
    "* GraphWin\n",
    "* Point\n",
    "\n",
    "\n",
    "* Line\n",
    "* Circle\n",
    "* Oval\n",
    "* Rectangle\n",
    "* Polygon\n",
    "* Text\n",
    "\n",
    "(There are also Entry and Image objects, though we do not consider them in this lab.)"
   ]
  },
  {
   "cell_type": "markdown",
   "metadata": {
    "deletable": false,
    "editable": false,
    "run_control": {
     "frozen": true
    }
   },
   "source": [
    "__Q16:__ How many arguments are required by the constructor for the `Rectangle` class?  What is the type of those arguments?  What do they represent?"
   ]
  },
  {
   "cell_type": "markdown",
   "metadata": {},
   "source": [
    "`Rectangle( )` requires 2 Points as arguments.\n",
    "\n",
    "These points are used as 2 diagonally opposite corners of a rectangle.\n",
    "\n",
    "`Rectangle( )` plots these 2 points and constructs the rectangle between them."
   ]
  },
  {
   "cell_type": "markdown",
   "metadata": {
    "deletable": false,
    "editable": false,
    "run_control": {
     "frozen": true
    }
   },
   "source": [
    "__Q17:__ Write a program that displays a rectangle with the following attributes:\n",
    "- a red outline \n",
    "- filled in with yellow\n",
    "- width of 100 pixels\n",
    "- height of 50 pixels."
   ]
  },
  {
   "cell_type": "code",
   "execution_count": 3,
   "metadata": {},
   "outputs": [],
   "source": [
    "from graphics import *\n",
    "\n",
    "recWin = GraphWin(\"First Graphics Window\", 500, 400)\n",
    "\n",
    "ryRec = Rectangle(Point(200, 175), Point(300, 225))\n",
    "ryRec.setFill(\"yellow\")\n",
    "ryRec.setOutline(\"red\")\n",
    "ryRec.draw(recWin)\n",
    "\n",
    "recWin.getKey()\n",
    "recWin.close()"
   ]
  },
  {
   "cell_type": "markdown",
   "metadata": {
    "deletable": false,
    "editable": false,
    "run_control": {
     "frozen": true
    }
   },
   "source": [
    "__Q18:__ Write a program that displays:\n",
    "- a circle\n",
    "- a line\n",
    "- an oval\n",
    "- some text\n",
    "\n",
    "and uses at least three different colors."
   ]
  },
  {
   "cell_type": "code",
   "execution_count": 4,
   "metadata": {},
   "outputs": [],
   "source": [
    "from graphics import *\n",
    "\n",
    "objs4win = GraphWin(\"First Graphics Window\", 500, 400)\n",
    "\n",
    "o4circ = Circle(Point(100, 100), 50)\n",
    "o4circ.setFill(\"yellow\")\n",
    "o4circ.setOutline(\"yellow\")\n",
    "o4circ.draw(objs4win)\n",
    "\n",
    "o4line = Line(Point(400, 50), Point(490, 100))\n",
    "o4line.setFill(\"red\")\n",
    "o4line.setWidth(4)\n",
    "o4line.draw(objs4win)\n",
    "\n",
    "o4oval = Oval(Point(400, 325), Point(490, 375))\n",
    "o4oval.setFill(\"purple\")\n",
    "o4oval.setOutline(\"violet\")\n",
    "o4oval.draw(objs4win)\n",
    "\n",
    "o4text = Text(Point(100, 325), \"Lovin' this!\")\n",
    "o4text.setSize(36)\n",
    "o4text.setFill(\"green\")\n",
    "o4text.draw(objs4win)\n",
    "\n",
    "objs4win.getKey()\n",
    "objs4win.close()"
   ]
  },
  {
   "cell_type": "markdown",
   "metadata": {
    "deletable": false,
    "editable": false,
    "run_control": {
     "frozen": true
    }
   },
   "source": [
    "### Interaction & Animation"
   ]
  },
  {
   "cell_type": "markdown",
   "metadata": {
    "deletable": false,
    "editable": false,
    "run_control": {
     "frozen": true
    }
   },
   "source": [
    "__Q19:__ The `GraphWin` class has a method that will wait for the user to click the mouse somewhere within the graphics window.  Write a program that displays a graphics window and then prints the x,y coordinates of where the user clicked the mouse and then closes the window."
   ]
  },
  {
   "cell_type": "code",
   "execution_count": 5,
   "metadata": {},
   "outputs": [
    {
     "name": "stdout",
     "output_type": "stream",
     "text": [
      "Point(154.0, 197.0)\n"
     ]
    }
   ],
   "source": [
    "from graphics import *\n",
    "\n",
    "winClick = GraphWin(\"Click on me; I dare you!\", 500, 400)\n",
    "\n",
    "print(winClick.getMouse())\n",
    "\n",
    "winClick.close()"
   ]
  },
  {
   "cell_type": "markdown",
   "metadata": {
    "deletable": false,
    "editable": false,
    "run_control": {
     "frozen": true
    }
   },
   "source": [
    "__Q20:__ Write a program that draws a circle of radius 10 at each location where the user clicks the mouse.  The program should allow for five mouse clicks.  The program should then wait for a key to be pressed before closing the window."
   ]
  },
  {
   "cell_type": "code",
   "execution_count": 2,
   "metadata": {},
   "outputs": [],
   "source": [
    "from graphics import *\n",
    "\n",
    "win5clix = GraphWin(\"Click 5 times please.\", 500, 400)\n",
    "\n",
    "c1cen = win5clix.getMouse()\n",
    "cir1 = Circle(c1cen, 10)\n",
    "cir1.draw(win5clix)\n",
    "\n",
    "c2cen = win5clix.getMouse()\n",
    "cir2 = Circle(c2cen, 10)\n",
    "cir2.draw(win5clix)\n",
    "\n",
    "c3cen = win5clix.getMouse()\n",
    "cir3 = Circle(c3cen, 10)\n",
    "cir3.draw(win5clix)\n",
    "\n",
    "c4cen = win5clix.getMouse()\n",
    "cir4 = Circle(c4cen, 10)\n",
    "cir4.draw(win5clix)\n",
    "\n",
    "c5cen = win5clix.getMouse()\n",
    "cir5 = Circle(c5cen, 10)\n",
    "cir5.draw(win5clix)\n",
    "\n",
    "\n",
    "win5clix.getKey()\n",
    "win5clix.close()"
   ]
  },
  {
   "cell_type": "markdown",
   "metadata": {
    "deletable": false,
    "editable": false,
    "run_control": {
     "frozen": true
    }
   },
   "source": [
    "__Q21:__ The Python `time` module has a function that when called pauses the execution of a program for a specified amount of time.  What is the name of this function?  What is the argument does this function accept?"
   ]
  },
  {
   "cell_type": "markdown",
   "metadata": {},
   "source": [
    "`time.sleep()` delays execution of the program at the line on which it is used for the number of seconds provided as an argument.\n",
    "\n",
    "Ex: `time.sleep(7.5)` will pause the program for 7.5 seconds."
   ]
  },
  {
   "cell_type": "markdown",
   "metadata": {
    "deletable": false,
    "editable": false,
    "run_control": {
     "frozen": true
    }
   },
   "source": [
    "__Q22:__ Use the method you found in __Q22__ to write a program that animates a shape moving across the graphics window.  You can do this by drawing the shape, waiting a little while, erasing it, and then immediately drawing it again at a slightly different location.  Your program should display the circle, wait for the user to press a key, repeat the code to animate the shape at least 5 times and then waits for another key press before closing the window."
   ]
  },
  {
   "cell_type": "code",
   "execution_count": 2,
   "metadata": {},
   "outputs": [],
   "source": [
    "from graphics import *\n",
    "from time import sleep\n",
    "\n",
    "sunWin = GraphWin(\"Sunrise to Sunset\", 500, 400)\n",
    "\n",
    "sunWin.getKey()\n",
    "\n",
    "sun = Circle(Point(100, 100), 50)\n",
    "sun.setFill(\"yellow\")\n",
    "sun.setOutline(\"yellow\")\n",
    "sun.draw(sunWin)\n",
    "\n",
    "sleep(.25)\n",
    "sun.undraw()\n",
    "\n",
    "sun = Circle(Point(110, 100), 50)\n",
    "sun.setFill(\"yellow\")\n",
    "sun.setOutline(\"yellow\")\n",
    "sun.draw(sunWin)\n",
    "\n",
    "sleep(.25)\n",
    "sun.undraw()\n",
    "\n",
    "sun = Circle(Point(120, 100), 50)\n",
    "sun.setFill(\"yellow\")\n",
    "sun.setOutline(\"yellow\")\n",
    "sun.draw(sunWin)\n",
    "\n",
    "sleep(.25)\n",
    "sun.undraw()\n",
    "\n",
    "sun = Circle(Point(130, 100), 50)\n",
    "sun.setFill(\"yellow\")\n",
    "sun.setOutline(\"yellow\")\n",
    "sun.draw(sunWin)\n",
    "\n",
    "sleep(.25)\n",
    "sun.undraw()\n",
    "\n",
    "sun = Circle(Point(140, 100), 50)\n",
    "sun.setFill(\"yellow\")\n",
    "sun.setOutline(\"yellow\")\n",
    "sun.draw(sunWin)\n",
    "\n",
    "sleep(.25)\n",
    "sun.undraw()\n",
    "\n",
    "sunWin.getKey()\n",
    "sunWin.close()"
   ]
  },
  {
   "cell_type": "markdown",
   "metadata": {
    "deletable": false,
    "editable": false,
    "run_control": {
     "frozen": true
    }
   },
   "source": [
    "### Python Script Mode & Terminal Commands"
   ]
  },
  {
   "cell_type": "markdown",
   "metadata": {
    "deletable": false,
    "editable": false,
    "run_control": {
     "frozen": true
    }
   },
   "source": [
    "Jupyter notebooks are great for learning Python, writing small programs, experimenting with new ideas and presenting the results of computations to others.  However, longer programs, like the one in __Q22__, are a little awkward to work with in Jupyter notebooks. In most every language, Python included, longer programs are typically written in an editor and saved into their own files.\n",
    "\n",
    "The JupyterLab environment provides a *text editor* that makes it easy to write Python programs in their own files and an interactive *Terminal* that allows you to run them."
   ]
  },
  {
   "cell_type": "markdown",
   "metadata": {
    "deletable": false,
    "editable": false,
    "run_control": {
     "frozen": true
    }
   },
   "source": [
    "__Q23:__ In the left hand frame of the JupyterLab window (where you files appear) there is a __\\+__ icon in the toolbar at the top.  Clicking that __\\+__ will bring up a *Launcher panel* on the right.  In the Launcher panel you will see icons at the bottom for __Terminal__ and for __Text File__.  Click the __Text File__ icon. The Launcher panel will then change into a blank document.  A new file will also appear in your list of files in the left hand frame. What is the name of the new file that was created?"
   ]
  },
  {
   "cell_type": "markdown",
   "metadata": {},
   "source": [
    "The new file is named *untitled1.txt*."
   ]
  },
  {
   "cell_type": "markdown",
   "metadata": {
    "deletable": false,
    "editable": false,
    "run_control": {
     "frozen": true
    }
   },
   "source": [
    "__Q24:__ Programs that contain python programs are typically named with a __.py__ extension.  Change the name of the file you just created to be __animate.py__.  How did you change the name?"
   ]
  },
  {
   "cell_type": "markdown",
   "metadata": {},
   "source": [
    "With a text file, using the file menu command *Save File As...* will allow you to change both the file's name and its file type.\n",
    "* Change *untitled1* to *animate*.\n",
    "* Change *.txt* to *.py*."
   ]
  },
  {
   "cell_type": "markdown",
   "metadata": {
    "deletable": false,
    "editable": false,
    "run_control": {
     "frozen": true
    }
   },
   "source": [
    "__Q25:__ Python programs in __.py__ files can contain all of the same instructions that that they can in a notebook cell.  Copy your program from __Q22__ above and paste it into your __animate.py__ file and save it using the *Save Python File* option on the *File* menu.  What is the shortcut key combination to save a file? Be sure to use it often!"
   ]
  },
  {
   "cell_type": "markdown",
   "metadata": {},
   "source": [
    "The shortcut key combination to save a Python file in JupyterLab is command + S on a Mac and control + S on a PC.\n",
    "\n",
    "(These shortcut key combinations are the same for saving almost any file in almost any other application.)"
   ]
  },
  {
   "cell_type": "markdown",
   "metadata": {
    "deletable": false,
    "editable": false,
    "run_control": {
     "frozen": true
    }
   },
   "source": [
    "A *Terminal* allows you to used typed commands to interact with the computer. We'll be using the Terminal to run Python programs that are saved in files. Open a new Launcher tab and then click the __Terminal__ icon.  The Launcher panel will change into a Terminal window.  In the terminal window will be the cryptic prompt: \n",
    "<pre>bash-3.2$</pre>\n",
    "with a blinking cursor next to it. bash is the name of the Terminal program that JupyterLab uses to allow you to interact with the computer. The blinking cursor is an indication that bash is ready for your commands."
   ]
  },
  {
   "cell_type": "markdown",
   "metadata": {
    "deletable": false,
    "editable": false,
    "run_control": {
     "frozen": true
    }
   },
   "source": [
    "__Q26:__ The command `ls` instructs the terminal to *list files*.  Type `ls` into the prompt and press __return__.  Look at the names of the files that are listed.  Now open a *File Finder Window* and go to your *Home Directory* (Choose *Home* from the *Go* menu).  What do you notice about the names of the files in the Finder and in the Terminal?"
   ]
  },
  {
   "cell_type": "markdown",
   "metadata": {},
   "source": [
    "The names of the files and folders shown in the folder window of the user's home (top level) directory are the same as those that appear when you type `ls` in a Terminal window identifying the same directory. "
   ]
  },
  {
   "cell_type": "markdown",
   "metadata": {
    "deletable": false,
    "editable": false,
    "run_control": {
     "frozen": true
    }
   },
   "source": [
    "__Q27:__ One of the files appearing in the Finder and in the Terminal should be your *One Drive* directory.  Double click your One Drive folder in the Finder to open it.  In the Terminal type the command `cd OneDrive` and then press the __tab__ key.  What happens when you press __tab__?"
   ]
  },
  {
   "cell_type": "markdown",
   "metadata": {},
   "source": [
    "The Terminal window automatically fills in the remainder of the directory name, `OneDrive\\ -\\ Dickinson\\ College/`, even though only the first few characters were typed.\n",
    "\n",
    "Terminal can save you typing like this as long as there are no other directories present that begin with the identical set of characters."
   ]
  },
  {
   "cell_type": "markdown",
   "metadata": {
    "deletable": false,
    "editable": false,
    "run_control": {
     "frozen": true
    }
   },
   "source": [
    "Now press __return__.  The bash prompt will return.  \n",
    "\n",
    "The `cd` command instructs the terminal to *change directories* and has the same effect as opening a folder in the Finder.  Note that *folders* and *directories* are the same thing and these terms are used interchangeably.\n",
    "\n",
    "Use the `ls` command again to confirm that you see the same files in your One Drive directory in the Finder as you do in the Terminal. "
   ]
  },
  {
   "cell_type": "markdown",
   "metadata": {
    "deletable": false,
    "editable": false,
    "run_control": {
     "frozen": true
    }
   },
   "source": [
    "__Q28:__ Change into your __Lab03__ directory in the Terminal and check the files that it contains to confirm that you are in the correct directory. What commands did you type into the terminal to get to you __Lab03__ directory?"
   ]
  },
  {
   "cell_type": "markdown",
   "metadata": {},
   "source": [
    "`cd ..` to move \"up\" and out of your *OneDrive directory* and back into your *home directory*\n",
    "\n",
    "`cd Lab03` to move into your *Lab03* directory\n",
    "\n",
    "**Note**: You probably did NOT create your *Lab03 directory* in your computer's *home directory*. It is more likely in your computer's *Documents directory* or *Desktop directory* or -- heaven forbid -- still in your *Downloads directory*.\n",
    "    To get to the *Lab03 directory* if it is within other directories, you simply need to `cd` into each directory in turn. The series of Terminal commands below would take you up and out of your OneDrive directory and then into a *Lab03 directory* that was wisely located within other helpfully named directories:\n",
    "* cd ..\n",
    "* cd Documents\n",
    "* cd CS130\n",
    "* cd Labs\n",
    "* cd Lab03\n",
    "* ls\n",
    "\n",
    "It is, of course, possible to navigate between directories more quickly:\n",
    "* cd Documents/CS130/Labs/Lab03"
   ]
  },
  {
   "cell_type": "markdown",
   "metadata": {
    "deletable": false,
    "editable": false,
    "run_control": {
     "frozen": true
    }
   },
   "source": [
    "__Q29:__ The command to run the *Python Interpeter* from the terminal is `python3`.  When running the interpreter you must also tell it which program to execute.  You do this by listing the name of the file containing the program immediately after the `python3` command and then pressing __return__.  Run the program that you saved into a file in  __Q25__.  What command did you enter into the Terminal?"
   ]
  },
  {
   "cell_type": "markdown",
   "metadata": {},
   "source": [
    "python3 animate.py"
   ]
  },
  {
   "cell_type": "markdown",
   "metadata": {
    "deletable": false,
    "editable": false,
    "run_control": {
     "frozen": true
    }
   },
   "source": [
    "### Comments, Code Formatting & Human Readability"
   ]
  },
  {
   "cell_type": "markdown",
   "metadata": {
    "deletable": false,
    "editable": false,
    "run_control": {
     "frozen": true
    }
   },
   "source": [
    "Comments provide a way to include *human readable* information in a program that will be ignored by the machine."
   ]
  },
  {
   "cell_type": "markdown",
   "metadata": {
    "deletable": false,
    "editable": false,
    "run_control": {
     "frozen": true
    }
   },
   "source": [
    "__Q30:__ Add a comment at the top of your __animate.py__ program that lists your name and your partner's name."
   ]
  },
  {
   "cell_type": "code",
   "execution_count": null,
   "metadata": {},
   "outputs": [],
   "source": [
    "# animate.py by Me, Myself and I\n",
    "\n",
    "from graphics import *\n",
    "from time import sleep\n",
    "\n",
    "sunWin = GraphWin(\"Sunrise to Sunset\", 500, 400)"
   ]
  },
  {
   "cell_type": "markdown",
   "metadata": {
    "deletable": false,
    "editable": false,
    "run_control": {
     "frozen": true
    }
   },
   "source": [
    "As programs get longer and more complex they become harder for human readers to understand. Just like in written text, formatting clues can be very helpful to a human reader, while being ignored by the machine. For example, we can use blank lines in programs, similar to paragraph breaks in writing, to indicate logical sections of the program."
   ]
  },
  {
   "cell_type": "markdown",
   "metadata": {
    "deletable": false,
    "editable": false,
    "run_control": {
     "frozen": true
    }
   },
   "source": [
    "__Q31:__ In your __animate.py__ program there are a number of lines that are repeated over and over again to perform the animation.  Add a blank line between each repetition of these lines to separate them into logical chunks."
   ]
  },
  {
   "cell_type": "markdown",
   "metadata": {
    "deletable": false,
    "editable": false,
    "run_control": {
     "frozen": true
    }
   },
   "source": [
    "Comments can work very well in combination with formatting to communicate with human readers of your programs. Often when a blank line is used to start a new logical section of the program, a comment can be used to describe to a human reader what that section of the program as a whole is doing (i.e. a *big picture* view).\n",
    "\n",
    "This is what the author of our book is getting at when he says: \n",
    "\n",
    "> Comments are most useful when they document non-obvious features of the code. It is reasonable to assume that the reader can figure out what the code does; it is more useful to explain why."
   ]
  },
  {
   "cell_type": "markdown",
   "metadata": {
    "deletable": false,
    "editable": false,
    "run_control": {
     "frozen": true
    }
   },
   "source": [
    "__Q32:__ Add a comment just above the first repeated block of code explaining to a human reader the *big picture* of why that block of code is doing what it does.  It is not necessary to repeat the same comment for each block. It is reasonable to assume that the reader can figure out that they are doing the same thing."
   ]
  },
  {
   "cell_type": "code",
   "execution_count": null,
   "metadata": {},
   "outputs": [],
   "source": [
    "# animate.py by Me, Myself and I\n",
    "\n",
    "# import the modules I will need\n",
    "from graphics import *\n",
    "from time import sleep\n",
    "\n",
    "# create graphics window\n",
    "sunWin = GraphWin(\"Sunrise to Sunset\", 500, 400)\n",
    "\n",
    "# pause program for user keystroke\n",
    "sunWin.getKey()\n",
    "\n",
    "# draw sun object in starting position, pause and undraw\n",
    "sun = Circle(Point(100, 100), 50)\n",
    "sun.setFill(\"yellow\")\n",
    "sun.setOutline(\"yellow\")\n",
    "sun.draw(sunWin)\n",
    "sleep(.25)\n",
    "sun.undraw()\n",
    "\n",
    "# redraw sun in new position, pause and undraw\n",
    "sun = Circle(Point(110, 100), 50)\n",
    "sun.setFill(\"yellow\")\n",
    "sun.setOutline(\"yellow\")\n",
    "sun.draw(sunWin)\n",
    "# The code would continue on this and the lines below."
   ]
  },
  {
   "cell_type": "markdown",
   "metadata": {
    "deletable": false,
    "editable": false,
    "run_control": {
     "frozen": true
    }
   },
   "source": [
    "### Draw a Picture"
   ]
  },
  {
   "cell_type": "markdown",
   "metadata": {
    "deletable": false,
    "editable": false,
    "run_control": {
     "frozen": true
    }
   },
   "source": [
    "__Q33:__ Write program in a file named `picture.py` that uses the `graphics` module to draw a picture. For full credit your picture must include: \n",
    "- at least one of each of the graphics shapes in the `graphics` module\n",
    "- some text\n",
    "- at least three colors\n",
    "- one animation\n",
    "- blank lines and comments to make your program easier for a human reader to understand. \n",
    "\n",
    "Be sure that the `picture.py` file is saved within your __Lab03__ folder so that it is turned in with your lab."
   ]
  }
 ],
 "metadata": {
  "kernelspec": {
   "display_name": "Python 3",
   "language": "python",
   "name": "python3"
  },
  "language_info": {
   "codemirror_mode": {
    "name": "ipython",
    "version": 3
   },
   "file_extension": ".py",
   "mimetype": "text/x-python",
   "name": "python",
   "nbconvert_exporter": "python",
   "pygments_lexer": "ipython3",
   "version": "3.7.3"
  }
 },
 "nbformat": 4,
 "nbformat_minor": 2
}
