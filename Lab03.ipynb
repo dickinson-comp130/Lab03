{
 "cells": [
  {
   "cell_type": "markdown",
   "metadata": {
    "deletable": false,
    "editable": false,
    "run_control": {
     "frozen": true
    }
   },
   "source": [
    "# Lab 03 - Objects and Graphics  \n",
    "**COMP130 - Introduction to Computing**  \n",
    "**Dickinson College**  "
   ]
  },
  {
   "cell_type": "markdown",
   "metadata": {
    "deletable": false,
    "editable": false,
    "run_control": {
     "frozen": true
    }
   },
   "source": [
    "### Names:"
   ]
  },
  {
   "cell_type": "markdown",
   "metadata": {},
   "source": []
  },
  {
   "cell_type": "markdown",
   "metadata": {
    "deletable": false,
    "editable": false,
    "run_control": {
     "frozen": true
    }
   },
   "source": [
    "### The graphics module "
   ]
  },
  {
   "cell_type": "markdown",
   "metadata": {
    "deletable": false,
    "editable": false,
    "run_control": {
     "frozen": true
    }
   },
   "source": [
    "In this lab you will be writing programs that use graphics objects to draw pictures and perform simple animations. In the process you'll gain more experience and practice with using objects, learn a little about how computer graphics and colors work and also learn how to run Python programs outside of a Jupyter notebook. \n",
    "\n",
    "The graphics and animation programs you write will use the `graphics` module created for introductory computer science courses by [John Zelle](https://mcsp.wartburg.edu/zelle/), a Professor of Computer Science at Wartburg College.  This `graphics` package provides a collection of Python objects that represent different graphical shapes (e.g. points, lines, circles, etc).  Pictures and animations are then created by constructing appropriate objects and using their methods to operate on their state. "
   ]
  },
  {
   "cell_type": "markdown",
   "metadata": {
    "deletable": false,
    "editable": false,
    "run_control": {
     "frozen": true
    }
   },
   "source": [
    "### The `graphics` Package and the `GraphWin` object"
   ]
  },
  {
   "cell_type": "markdown",
   "metadata": {
    "deletable": false,
    "editable": false,
    "run_control": {
     "frozen": true
    }
   },
   "source": [
    "There is a link to the documentation for the `graphics` module on the [course home page](https://dickinson-comp130.github.io/COMP130/). You will find that documentation essential in answering the questions in this section and also later in learning about all of the types of graphical objects the module contains."
   ]
  },
  {
   "cell_type": "markdown",
   "metadata": {
    "deletable": false,
    "editable": false,
    "run_control": {
     "frozen": true
    }
   },
   "source": [
    "__Q1:__ The `GraphWin` object represents a window onto which graphic objects can be drawn.  Find the documentation for the `GraphWin` constructor.  What arguments does the `GraphWin` constructor accept?"
   ]
  },
  {
   "cell_type": "code",
   "execution_count": null,
   "metadata": {},
   "outputs": [],
   "source": []
  },
  {
   "cell_type": "markdown",
   "metadata": {
    "deletable": false,
    "editable": false,
    "run_control": {
     "frozen": true
    }
   },
   "source": [
    "__Q2:__ Notice that the units in which the width and height of the `GraphWin` are specified is *pixels*.  What is a pixel? (Note: The window is not measured in units of Google phones. 😜)"
   ]
  },
  {
   "cell_type": "code",
   "execution_count": null,
   "metadata": {},
   "outputs": [],
   "source": []
  },
  {
   "cell_type": "markdown",
   "metadata": {
    "deletable": false,
    "editable": false,
    "run_control": {
     "frozen": true
    }
   },
   "source": [
    "__Q3:__ Write statements that import the `graphics` module and create a `GraphWin` object with the name *First Graphics Window* and is *500* pixels wide by *400* pixels high."
   ]
  },
  {
   "cell_type": "code",
   "execution_count": null,
   "metadata": {},
   "outputs": [],
   "source": []
  },
  {
   "cell_type": "markdown",
   "metadata": {
    "deletable": false,
    "editable": false,
    "run_control": {
     "frozen": true
    }
   },
   "source": [
    "When you run the statements in your answer to __Q3__ a blank graphics window will be displayed on the screen.  Like with the turtle window in Lab01 you will not be able to close that window.  Instead, to terminate the program you will need to *restart the kernel* to close the window.  To restart the kernel use the *restart* option on the *Kernel* menu, or click the *circular arrow* on the toolbar.  You will improve this situation in the next two questions.  \n",
    "\n",
    "However, you will likely make some programming mistakes as you go along. Some of these will cause the graphics window to get *stuck* (e.g. the spinning beach ball will appear).  So restarting the kernel to close a *stuck* graphics window will be a useful trick to keep in mind as you debug your code throughout this lab."
   ]
  },
  {
   "cell_type": "markdown",
   "metadata": {
    "deletable": false,
    "editable": false,
    "run_control": {
     "frozen": true
    }
   },
   "source": [
    "__Q4:__ The `GraphWin` object also provides a method that will close the window.  If we use this it will not be necessary to reset the kernel.  Find this method in the documentation and add a statement that uses it to the end of your program in __Q3__.  When you run that program now, the graphics window should flash briefly on the screen and then disappear. Why? Well because that's what you've told it to do.  We'll fix that in a moment."
   ]
  },
  {
   "cell_type": "markdown",
   "metadata": {
    "deletable": false,
    "editable": false,
    "run_control": {
     "frozen": true
    }
   },
   "source": [
    "__Q5:__ The `GraphWin` object also provides a method that waits for the user to press a key.  If you add a call to this method just before closing the window. The window will stay on the screen until you press a key and then it will close.  Add code to your program in __Q3__ that waits for a key press before closing the window.  Note: You may have to click in the graphics window to make it active in order for the key press to register. This is just like bringing your word processing or e-mail program to the front so that you can type in it."
   ]
  },
  {
   "cell_type": "markdown",
   "metadata": {
    "deletable": false,
    "editable": false,
    "run_control": {
     "frozen": true
    }
   },
   "source": [
    "The program you now have in __Q3__ is the basis for all programs that use the `graphics` module.  They start by importing the module and creating a `GraphWin` object and they end by waiting for an event (e.g. a key press) before closing the window. Its what goes between creating the window and waiting for the key press that creates pictures and animations."
   ]
  },
  {
   "cell_type": "markdown",
   "metadata": {
    "deletable": false,
    "editable": false,
    "run_control": {
     "frozen": true
    }
   },
   "source": [
    "__Q6:__ Have your instructor or TA confirm that the program that you now have in the code field for __Q3__ is correct before continuing."
   ]
  },
  {
   "cell_type": "markdown",
   "metadata": {},
   "source": []
  },
  {
   "cell_type": "markdown",
   "metadata": {
    "deletable": false,
    "editable": false,
    "run_control": {
     "frozen": true
    }
   },
   "source": [
    "### Points and Graphics Window Coordinates"
   ]
  },
  {
   "cell_type": "markdown",
   "metadata": {
    "deletable": false,
    "editable": false,
    "run_control": {
     "frozen": true
    }
   },
   "source": [
    "__Q7:__ The `Point` object is a fundamental object in the `graphics` package and is used by many of the other objects and their methods.  What arguments does the `Point` constructor require?"
   ]
  },
  {
   "cell_type": "markdown",
   "metadata": {},
   "source": []
  },
  {
   "cell_type": "markdown",
   "metadata": {
    "deletable": false,
    "editable": false,
    "run_control": {
     "frozen": true
    }
   },
   "source": [
    "__Q8:__ What other two methods does a `Point` object have? Are they *fruitful* or *fruitless* methods?"
   ]
  },
  {
   "cell_type": "markdown",
   "metadata": {},
   "source": []
  },
  {
   "cell_type": "markdown",
   "metadata": {
    "deletable": false,
    "editable": false,
    "run_control": {
     "frozen": true
    }
   },
   "source": [
    "__Q9:__ There are seven other methods that all graphical objects (including `Point` have).  One of those methods draws the object onto a `GraphWin` window.  Which method is that?  What argument does it require?"
   ]
  },
  {
   "cell_type": "markdown",
   "metadata": {},
   "source": []
  },
  {
   "cell_type": "markdown",
   "metadata": {
    "deletable": false,
    "editable": false,
    "run_control": {
     "frozen": true
    }
   },
   "source": [
    "__Q10:__ Another of those methods sets the color used to draw the outline of it.  Which method is that? What argument does it require?  Scan through the documentation and find some valid values for this argument and list them here as well."
   ]
  },
  {
   "cell_type": "code",
   "execution_count": null,
   "metadata": {},
   "outputs": [],
   "source": []
  },
  {
   "cell_type": "markdown",
   "metadata": {
    "deletable": false,
    "editable": false,
    "run_control": {
     "frozen": true
    }
   },
   "source": [
    "__Q11:__ Write a program that creates a `GraphWin`, creates and draws four `Point`s in four different colors at four different locations in the window. When writing programs that use the `graphics` module you can use your program from __Q3__ as a template by copy and pasting it and then filling in the new code."
   ]
  },
  {
   "cell_type": "code",
   "execution_count": null,
   "metadata": {},
   "outputs": [],
   "source": []
  },
  {
   "cell_type": "markdown",
   "metadata": {
    "deletable": false,
    "editable": false,
    "run_control": {
     "frozen": true
    }
   },
   "source": [
    "The coordinate system used for computer graphics is different than what you are used to from your math courses.  Experiment with the locations of the `Point` objects in your program from __Q11__ to answer the following questions."
   ]
  },
  {
   "cell_type": "markdown",
   "metadata": {
    "deletable": false,
    "editable": false,
    "run_control": {
     "frozen": true
    }
   },
   "source": [
    "__Q12:__ Where is the origin (0,0) in the graphics window?"
   ]
  },
  {
   "cell_type": "markdown",
   "metadata": {},
   "source": []
  },
  {
   "cell_type": "markdown",
   "metadata": {
    "deletable": false,
    "editable": false,
    "run_control": {
     "frozen": true
    }
   },
   "source": [
    "__Q13:__ Do the x coordinates increase or decrease as you move right to left within the window?"
   ]
  },
  {
   "cell_type": "markdown",
   "metadata": {},
   "source": []
  },
  {
   "cell_type": "markdown",
   "metadata": {
    "deletable": false,
    "editable": false,
    "run_control": {
     "frozen": true
    }
   },
   "source": [
    "__Q14:__ Do the y coordinates increase or decrease as you move from top to bottom within the window?"
   ]
  },
  {
   "cell_type": "markdown",
   "metadata": {},
   "source": []
  },
  {
   "cell_type": "markdown",
   "metadata": {
    "deletable": false,
    "editable": false,
    "run_control": {
     "frozen": true
    }
   },
   "source": [
    "### Other Graphics Objects"
   ]
  },
  {
   "cell_type": "markdown",
   "metadata": {
    "deletable": false,
    "editable": false,
    "run_control": {
     "frozen": true
    }
   },
   "source": [
    "__Q15:__ Section 3 of the `graphics` module documents all of the different graphics objects.  What other graphics objects are in the module?"
   ]
  },
  {
   "cell_type": "markdown",
   "metadata": {},
   "source": []
  },
  {
   "cell_type": "markdown",
   "metadata": {
    "deletable": false,
    "editable": false,
    "run_control": {
     "frozen": true
    }
   },
   "source": [
    "__Q16:__ How many arguments are required by the constructor for the `Rectangle` class?  What is the type of those arguments?  What do they represent?"
   ]
  },
  {
   "cell_type": "markdown",
   "metadata": {},
   "source": []
  },
  {
   "cell_type": "markdown",
   "metadata": {
    "deletable": false,
    "editable": false,
    "run_control": {
     "frozen": true
    }
   },
   "source": [
    "__Q17:__ Write a program that displays a rectangle with the following attributes:\n",
    "- a red outline \n",
    "- filled in with yellow\n",
    "- width of 100 pixels\n",
    "- height of 50 pixels."
   ]
  },
  {
   "cell_type": "code",
   "execution_count": null,
   "metadata": {},
   "outputs": [],
   "source": []
  },
  {
   "cell_type": "markdown",
   "metadata": {
    "deletable": false,
    "editable": false,
    "run_control": {
     "frozen": true
    }
   },
   "source": [
    "__Q18:__ Write a program that displays:\n",
    "- a circle\n",
    "- a line\n",
    "- an oval\n",
    "- some text\n",
    "\n",
    "and uses at least three different colors."
   ]
  },
  {
   "cell_type": "code",
   "execution_count": null,
   "metadata": {},
   "outputs": [],
   "source": []
  },
  {
   "cell_type": "markdown",
   "metadata": {
    "deletable": false,
    "editable": false,
    "run_control": {
     "frozen": true
    }
   },
   "source": [
    "### Interaction & Animation"
   ]
  },
  {
   "cell_type": "markdown",
   "metadata": {
    "deletable": false,
    "editable": false,
    "run_control": {
     "frozen": true
    }
   },
   "source": [
    "__Q19:__ The `GraphWin` class has a method that will wait for the user to click the mouse somewhere within the graphics window.  Write a program that displays a graphics window and then prints the x,y coordinates of where the user clicked the mouse and then closes the window."
   ]
  },
  {
   "cell_type": "code",
   "execution_count": null,
   "metadata": {},
   "outputs": [],
   "source": []
  },
  {
   "cell_type": "markdown",
   "metadata": {
    "deletable": false,
    "editable": false,
    "run_control": {
     "frozen": true
    }
   },
   "source": [
    "__Q20:__ Write a program that draws a circle of radius 10 at each location where the user clicks the mouse.  The program should allow for five mouse clicks.  The program should then wait for a key to be pressed before closing the window."
   ]
  },
  {
   "cell_type": "code",
   "execution_count": null,
   "metadata": {},
   "outputs": [],
   "source": []
  },
  {
   "cell_type": "markdown",
   "metadata": {
    "deletable": false,
    "editable": false,
    "run_control": {
     "frozen": true
    }
   },
   "source": [
    "__Q21:__ The Python `time` module has a function that when called pauses the execution of a program for a specified amount of time.  What is the name of this function?  What is the argument does this function accept?"
   ]
  },
  {
   "cell_type": "code",
   "execution_count": null,
   "metadata": {},
   "outputs": [],
   "source": []
  },
  {
   "cell_type": "markdown",
   "metadata": {
    "deletable": false,
    "editable": false,
    "run_control": {
     "frozen": true
    }
   },
   "source": [
    "__Q22:__ Use the method you found in __Q22__ to write a program that animates a shape moving across the graphics window.  You can do this by drawing the shape, waiting a little while, erasing it, and then immediately drawing it again at a slightly different location.  Your program should display the circle, wait for the user to press a key, repeat the code to animate the shape at least 5 times and then waits for another key press before closing the window."
   ]
  },
  {
   "cell_type": "code",
   "execution_count": null,
   "metadata": {},
   "outputs": [],
   "source": []
  },
  {
   "cell_type": "markdown",
   "metadata": {
    "deletable": false,
    "editable": false,
    "run_control": {
     "frozen": true
    }
   },
   "source": [
    "### Python Script Mode & Terminal Commands"
   ]
  },
  {
   "cell_type": "markdown",
   "metadata": {
    "deletable": false,
    "editable": false,
    "run_control": {
     "frozen": true
    }
   },
   "source": [
    "Jupyter notebooks are great for learning Python, writing small programs, experimenting with new ideas and presenting the results of computations to others.  However, longer programs, like the one in __Q22__, are a little awkward to work with in Jupyter notebooks. In most every language, Python included, longer programs are typically written in an editor and saved into their own files.\n",
    "\n",
    "The JupyterLab environment provides a *text editor* that makes it easy to write Python programs in their own files and an interactive *Terminal* that allows you to run them."
   ]
  },
  {
   "cell_type": "markdown",
   "metadata": {
    "deletable": false,
    "editable": false,
    "run_control": {
     "frozen": true
    }
   },
   "source": [
    "__Q23:__ In the left hand frame of the JupyterLab window (where you files appear) there is a __\\+__ icon in the toolbar at the top.  Clicking that __\\+__ will bring up a *Launcher panel* on the right.  In the Launcher panel you will see icons at the bottom for __Terminal__ and for __Text File__.  Click the __Text File__ icon. The Launcher panel will then change into a blank document.  A new file will also appear in your list of files in the left hand frame. What is the name of the new file that was created?"
   ]
  },
  {
   "cell_type": "markdown",
   "metadata": {},
   "source": []
  },
  {
   "cell_type": "markdown",
   "metadata": {
    "deletable": false,
    "editable": false,
    "run_control": {
     "frozen": true
    }
   },
   "source": [
    "__Q24:__ Programs that contain python programs are typically named with a __.py__ extension.  Change the name of the file you just created to be __animate.py__.  How did you change the name?"
   ]
  },
  {
   "cell_type": "markdown",
   "metadata": {},
   "source": []
  },
  {
   "cell_type": "markdown",
   "metadata": {
    "deletable": false,
    "editable": false,
    "run_control": {
     "frozen": true
    }
   },
   "source": [
    "__Q25:__ Python programs in __.py__ files can contain all of the same instructions that that they can in a notebook cell.  Copy your program from __Q22__ above and paste it into your __animate.py__ file and save it using the *Save Python File* option on the *File* menu.  What is the shortcut key combination to save a file? Be sure to use it often!"
   ]
  },
  {
   "cell_type": "markdown",
   "metadata": {},
   "source": []
  },
  {
   "cell_type": "markdown",
   "metadata": {
    "deletable": false,
    "editable": false,
    "run_control": {
     "frozen": true
    }
   },
   "source": [
    "A *Terminal* allows you to used typed commands to interact with the computer. We'll be using the Terminal to run Python programs that are saved in files. Open a new Launcher tab and then click the __Terminal__ icon.  The Launcher panel will change into a Terminal window.  In the terminal window will be the cryptic prompt: \n",
    "<pre>bash-3.2$</pre>\n",
    "with a blinking cursor next to it. bash is the name of the Terminal program that JupyterLab uses to allow you to interact with the computer. The blinking cursor is an indication that bash is ready for your commands."
   ]
  },
  {
   "cell_type": "markdown",
   "metadata": {
    "deletable": false,
    "editable": false,
    "run_control": {
     "frozen": true
    }
   },
   "source": [
    "__Q26:__ The command `ls` instructs the terminal to *list files*.  Type `ls` into the prompt and press __return__.  Look at the names of the files that are listed.  Now open a *File Finder Window* and go to your *Home Directory* (Choose *Home* from the *Go* menu).  What do you notice about the names of the files in the Finder and in the Terminal?"
   ]
  },
  {
   "cell_type": "markdown",
   "metadata": {},
   "source": []
  },
  {
   "cell_type": "markdown",
   "metadata": {
    "deletable": false,
    "editable": false,
    "run_control": {
     "frozen": true
    }
   },
   "source": [
    "__Q27:__ One of the files appearing in the Finder and in the Terminal should be your *One Drive* directory.  Double click your One Drive folder in the Finder to open it.  In the Terminal type the command `cd OneDrive` and then press the __tab__ key.  What happens when you press __tab__?"
   ]
  },
  {
   "cell_type": "markdown",
   "metadata": {},
   "source": []
  },
  {
   "cell_type": "markdown",
   "metadata": {
    "deletable": false,
    "editable": false,
    "run_control": {
     "frozen": true
    }
   },
   "source": [
    "Now press __return__.  The bash prompt will return.  \n",
    "\n",
    "The `cd` command instructs the terminal to *change directories* and has the same effect as opening a folder in the Finder.  Note that *folders* and *directories* are the same thing and these terms are used interchangeably.\n",
    "\n",
    "Use the `ls` command again to confirm that you see the same files in your One Drive directory in the Finder as you do in the Terminal. "
   ]
  },
  {
   "cell_type": "markdown",
   "metadata": {
    "deletable": false,
    "editable": false,
    "run_control": {
     "frozen": true
    }
   },
   "source": [
    "__Q28:__ Change into your __Lab03__ directory in the Terminal and check the files that it contains to confirm that you are in the correct directory. What commands did you type into the terminal to get to you __Lab03__ directory?"
   ]
  },
  {
   "cell_type": "markdown",
   "metadata": {},
   "source": []
  },
  {
   "cell_type": "markdown",
   "metadata": {
    "deletable": false,
    "editable": false,
    "run_control": {
     "frozen": true
    }
   },
   "source": [
    "__Q29:__ The command to run the *Python Interpeter* from the terminal is `python3`.  When running the interpreter you must also tell it which program to execute.  You do this by listing the name of the file containing the program immediately after the `python3` command and then pressing __return__.  Run the program that you saved into a file in  __Q25__.  What command did you enter into the Terminal?"
   ]
  },
  {
   "cell_type": "markdown",
   "metadata": {},
   "source": []
  },
  {
   "cell_type": "markdown",
   "metadata": {
    "deletable": false,
    "editable": false,
    "run_control": {
     "frozen": true
    }
   },
   "source": [
    "### Comments, Code Formatting & Human Readability"
   ]
  },
  {
   "cell_type": "markdown",
   "metadata": {
    "deletable": false,
    "editable": false,
    "run_control": {
     "frozen": true
    }
   },
   "source": [
    "Comments provide a way to include *human readable* information in a program that will be ignored by the machine."
   ]
  },
  {
   "cell_type": "markdown",
   "metadata": {
    "deletable": false,
    "editable": false,
    "run_control": {
     "frozen": true
    }
   },
   "source": [
    "__Q30:__ Add a comment at the top of your __animate.py__ program that lists your name and your partner's name."
   ]
  },
  {
   "cell_type": "markdown",
   "metadata": {
    "deletable": false,
    "editable": false,
    "run_control": {
     "frozen": true
    }
   },
   "source": [
    "As programs get longer and more complex they become harder for human readers to understand. Just like in written text, formatting clues can be very helpful to a human reader, while being ignored by the machine. For example, we can use blank lines in programs, similar to paragraph breaks in writing, to indicate logical sections of the program."
   ]
  },
  {
   "cell_type": "markdown",
   "metadata": {
    "deletable": false,
    "editable": false,
    "run_control": {
     "frozen": true
    }
   },
   "source": [
    "__Q31:__ In your __animate.py__ program there are a number of lines that are repeated over and over again to perform the animation.  Add a blank line between each repetition of these lines to separate them into logical chunks."
   ]
  },
  {
   "cell_type": "markdown",
   "metadata": {
    "deletable": false,
    "editable": false,
    "run_control": {
     "frozen": true
    }
   },
   "source": [
    "Comments can work very well in combination with formatting to communicate with human readers of your programs. Often when a blank line is used to start a new logical section of the program, a comment can be used to describe to a human reader what that section of the program as a whole is doing (i.e. a *big picture* view).\n",
    "\n",
    "This is what the author of our book is getting at when he says: \n",
    "\n",
    "> Comments are most useful when they document non-obvious features of the code. It is reasonable to assume that the reader can figure out what the code does; it is more useful to explain why."
   ]
  },
  {
   "cell_type": "markdown",
   "metadata": {
    "deletable": false,
    "editable": false,
    "run_control": {
     "frozen": true
    }
   },
   "source": [
    "__Q32:__ Add a comment just above the first repeated block of code explaining to a human reader the *big picture* of why that block of code is doing what it does.  It is not necessary to repeat the same comment for each block. It is reasonable to assume that the reader can figure out that they are doing the same thing."
   ]
  },
  {
   "cell_type": "markdown",
   "metadata": {
    "deletable": false,
    "editable": false,
    "run_control": {
     "frozen": true
    }
   },
   "source": [
    "### Draw a Picture"
   ]
  },
  {
   "cell_type": "markdown",
   "metadata": {
    "deletable": false,
    "editable": false,
    "run_control": {
     "frozen": true
    }
   },
   "source": [
    "__Q33:__ Write program in a file named `picture.py` that uses the `graphics` module to draw a picture. For full credit your picture must include: \n",
    "- at least one of each of the graphics shapes in the `graphics` module\n",
    "- some text\n",
    "- at least three colors\n",
    "- one animation\n",
    "- blank lines and comments to make your program easier for a human reader to understand. \n",
    "\n",
    "Be sure that the `picture.py` file is saved within your __Lab03__ folder so that it is turned in with your lab."
   ]
  }
 ],
 "metadata": {
  "kernelspec": {
   "display_name": "Python 3",
   "language": "python",
   "name": "python3"
  },
  "language_info": {
   "codemirror_mode": {
    "name": "ipython",
    "version": 3
   },
   "file_extension": ".py",
   "mimetype": "text/x-python",
   "name": "python",
   "nbconvert_exporter": "python",
   "pygments_lexer": "ipython3",
   "version": "3.7.3"
  }
 },
 "nbformat": 4,
 "nbformat_minor": 2
}
